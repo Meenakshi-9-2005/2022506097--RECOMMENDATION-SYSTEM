{
  "cells": [
    {
      "cell_type": "markdown",
      "metadata": {
        "id": "-GPVmAJokIXL"
      },
      "source": [
        "RECOMMENDATION SYSTEM -2"
      ]
    },
    {
      "cell_type": "markdown",
      "metadata": {
        "id": "N31rs1daMLID"
      },
      "source": [
        "Step 1: Install requirements"
      ]
    },
    {
      "cell_type": "code",
      "execution_count": null,
      "metadata": {
        "colab": {
          "base_uri": "https://localhost:8080/"
        },
        "id": "4czFvIVEMNqw",
        "outputId": "0bf61a19-a315-4972-97f6-2b9351367c27"
      },
      "outputs": [
        {
          "output_type": "stream",
          "name": "stdout",
          "text": [
            "Requirement already satisfied: pandas in /usr/local/lib/python3.10/dist-packages (2.0.3)\n",
            "Requirement already satisfied: scikit-surprise in /usr/local/lib/python3.10/dist-packages (1.1.4)\n",
            "Requirement already satisfied: matplotlib in /usr/local/lib/python3.10/dist-packages (3.7.1)\n",
            "Requirement already satisfied: seaborn in /usr/local/lib/python3.10/dist-packages (0.13.1)\n",
            "Requirement already satisfied: python-dateutil>=2.8.2 in /usr/local/lib/python3.10/dist-packages (from pandas) (2.8.2)\n",
            "Requirement already satisfied: pytz>=2020.1 in /usr/local/lib/python3.10/dist-packages (from pandas) (2023.4)\n",
            "Requirement already satisfied: tzdata>=2022.1 in /usr/local/lib/python3.10/dist-packages (from pandas) (2024.1)\n",
            "Requirement already satisfied: numpy>=1.21.0 in /usr/local/lib/python3.10/dist-packages (from pandas) (1.25.2)\n",
            "Requirement already satisfied: joblib>=1.2.0 in /usr/local/lib/python3.10/dist-packages (from scikit-surprise) (1.4.2)\n",
            "Requirement already satisfied: scipy>=1.6.0 in /usr/local/lib/python3.10/dist-packages (from scikit-surprise) (1.11.4)\n",
            "Requirement already satisfied: contourpy>=1.0.1 in /usr/local/lib/python3.10/dist-packages (from matplotlib) (1.2.1)\n",
            "Requirement already satisfied: cycler>=0.10 in /usr/local/lib/python3.10/dist-packages (from matplotlib) (0.12.1)\n",
            "Requirement already satisfied: fonttools>=4.22.0 in /usr/local/lib/python3.10/dist-packages (from matplotlib) (4.53.0)\n",
            "Requirement already satisfied: kiwisolver>=1.0.1 in /usr/local/lib/python3.10/dist-packages (from matplotlib) (1.4.5)\n",
            "Requirement already satisfied: packaging>=20.0 in /usr/local/lib/python3.10/dist-packages (from matplotlib) (24.1)\n",
            "Requirement already satisfied: pillow>=6.2.0 in /usr/local/lib/python3.10/dist-packages (from matplotlib) (9.4.0)\n",
            "Requirement already satisfied: pyparsing>=2.3.1 in /usr/local/lib/python3.10/dist-packages (from matplotlib) (3.1.2)\n",
            "Requirement already satisfied: six>=1.5 in /usr/local/lib/python3.10/dist-packages (from python-dateutil>=2.8.2->pandas) (1.16.0)\n"
          ]
        }
      ],
      "source": [
        "!pip install pandas scikit-surprise matplotlib seaborn\n"
      ]
    },
    {
      "cell_type": "markdown",
      "metadata": {
        "id": "APN_ndNRMOSp"
      },
      "source": [
        "Step 2: Download and Load the datasets"
      ]
    },
    {
      "cell_type": "code",
      "execution_count": null,
      "metadata": {
        "colab": {
          "base_uri": "https://localhost:8080/"
        },
        "id": "buoYqOllMRuX",
        "outputId": "83b8cac7-70a7-47fe-e805-113328f8c99e"
      },
      "outputs": [
        {
          "output_type": "stream",
          "name": "stdout",
          "text": [
            "Contents of 'ml-20m' directory: ['genome-tags.csv', 'links.csv', 'genome-scores.csv', 'movies.csv', 'ratings.csv', 'tags.csv', 'README.txt']\n",
            "   userId  movieId  rating   timestamp           title  \\\n",
            "0       1        2     3.5  1112486027  Jumanji (1995)   \n",
            "1       5        2     3.0   851527569  Jumanji (1995)   \n",
            "2      13        2     3.0   849082742  Jumanji (1995)   \n",
            "3      29        2     3.0   835562174  Jumanji (1995)   \n",
            "4      34        2     3.0   846509384  Jumanji (1995)   \n",
            "\n",
            "                       genres  \n",
            "0  Adventure|Children|Fantasy  \n",
            "1  Adventure|Children|Fantasy  \n",
            "2  Adventure|Children|Fantasy  \n",
            "3  Adventure|Children|Fantasy  \n",
            "4  Adventure|Children|Fantasy  \n"
          ]
        }
      ],
      "source": [
        "import pandas as pd\n",
        "import zipfile\n",
        "import urllib.request\n",
        "import os\n",
        "\n",
        "# Download the dataset\n",
        "url = 'http://files.grouplens.org/datasets/movielens/ml-20m.zip'\n",
        "urllib.request.urlretrieve(url, 'ml-20m.zip')\n",
        "\n",
        "# Unzip the dataset\n",
        "with zipfile.ZipFile('ml-20m.zip', 'r') as zip_ref:\n",
        "    zip_ref.extractall('')  # Extract directly into current working directory\n",
        "\n",
        "# Check contents of 'ml-20m' directory\n",
        "directory_contents = os.listdir('ml-20m')\n",
        "print(\"Contents of 'ml-20m' directory:\", directory_contents)\n",
        "\n",
        "# Load the data into pandas DataFrames if files are found\n",
        "if 'ratings.csv' in directory_contents and 'movies.csv' in directory_contents:\n",
        "    ratings = pd.read_csv('ml-20m/ratings.csv')\n",
        "    movies = pd.read_csv('ml-20m/movies.csv')\n",
        "\n",
        "    # Merge the two DataFrames to get movie titles with ratings\n",
        "    movie_ratings = pd.merge(ratings, movies[['movieId', 'title', 'genres']], on='movieId')\n",
        "\n",
        "    # Display the first few rows of the merged dataframe\n",
        "    print(movie_ratings.head())\n",
        "else:\n",
        "    print(\"Error: ratings.csv or movies.csv not found in 'ml-20m' directory.\")\n"
      ]
    },
    {
      "cell_type": "markdown",
      "metadata": {
        "id": "MbDh18wBMSgs"
      },
      "source": [
        "Step 3: Data Preprocessing"
      ]
    },
    {
      "cell_type": "code",
      "execution_count": null,
      "metadata": {
        "colab": {
          "base_uri": "https://localhost:8080/"
        },
        "id": "Uu6pAfuDMWFo",
        "outputId": "67debb0d-81ca-4c43-ac15-49baa28e3f64"
      },
      "outputs": [
        {
          "output_type": "stream",
          "name": "stdout",
          "text": [
            "Number of users: 138493\n",
            "Number of movies: 26744\n"
          ]
        }
      ],
      "source": [
        "# Drop the timestamp column as it is not needed\n",
        "movie_ratings = movie_ratings.drop('timestamp', axis=1)\n",
        "\n",
        "# Display the number of unique users and movies\n",
        "n_users = movie_ratings['userId'].nunique()\n",
        "n_movies = movie_ratings['movieId'].nunique()\n",
        "\n",
        "print(f'Number of users: {n_users}')\n",
        "print(f'Number of movies: {n_movies}')\n"
      ]
    },
    {
      "cell_type": "markdown",
      "metadata": {
        "id": "DwLOY_RoMbDX"
      },
      "source": [
        "Step 4: Building Recommender System"
      ]
    },
    {
      "cell_type": "code",
      "execution_count": null,
      "metadata": {
        "colab": {
          "base_uri": "https://localhost:8080/"
        },
        "id": "VKytHZ-zMb_U",
        "outputId": "f4cab396-b580-4e34-d6a3-ef08736e43cc"
      },
      "outputs": [
        {
          "output_type": "stream",
          "name": "stdout",
          "text": [
            "RMSE: 0.8666\n"
          ]
        },
        {
          "output_type": "execute_result",
          "data": {
            "text/plain": [
              "0.8666021189696101"
            ]
          },
          "metadata": {},
          "execution_count": 4
        }
      ],
      "source": [
        "from surprise import Dataset, Reader, NMF\n",
        "from surprise.model_selection import train_test_split\n",
        "from surprise import accuracy\n",
        "\n",
        "# Load the dataset into Surprise\n",
        "reader = Reader(rating_scale=(0.5, 5.0))\n",
        "data = Dataset.load_from_df(movie_ratings[['userId', 'movieId', 'rating']], reader)\n",
        "\n",
        "# Split the data into training and test sets\n",
        "trainset, testset = train_test_split(data, test_size=0.25)\n",
        "\n",
        "# Use NMF (Non-Negative Matrix Factorization) for collaborative filtering\n",
        "algo = NMF()\n",
        "algo.fit(trainset)\n",
        "\n",
        "# Make predictions on the test set\n",
        "predictions = algo.test(testset)\n",
        "\n",
        "# Compute and print RMSE\n",
        "accuracy.rmse(predictions)\n"
      ]
    },
    {
      "cell_type": "markdown",
      "metadata": {
        "id": "S75yG2JoMfLo"
      },
      "source": [
        "Step 5: Making Movie Recommendations"
      ]
    },
    {
      "cell_type": "code",
      "execution_count": null,
      "metadata": {
        "colab": {
          "base_uri": "https://localhost:8080/"
        },
        "id": "wfqvzPt7MgN-",
        "outputId": "db6b8ac8-205d-400f-d423-379c428af100"
      },
      "outputs": [
        {
          "output_type": "stream",
          "name": "stdout",
          "text": [
            "Top 10 movie recommendations for user_id: 1\n",
            "          movieId                                              title\n",
            "18705937   107230                                    Deadbolt (1992)\n",
            "19630566   120821                             The War at Home (1979)\n",
            "19768129    86288               Day the Universe Changed, The (1985)\n",
            "19768212   104119                           Forsyte Saga, The (1967)\n",
            "19822558    88570                                     Welfare (1975)\n",
            "19896479   126959                         The Epic of Everest (1924)\n",
            "19912640    81906                              Snow and Ashes (2010)\n",
            "19950406    60880              Family Game, The (Kazoku gêmu) (1983)\n",
            "19957857    78064                        Ween Live in Chicago (2004)\n",
            "19959538   113793  Reel Bad Arabs: How Hollywood Vilifies a Peopl...\n"
          ]
        }
      ],
      "source": [
        "def get_movie_recommendations(user_id, n_recommendations=10):\n",
        "    # Get a list of all movie ids\n",
        "    movie_ids = movie_ratings['movieId'].unique()\n",
        "\n",
        "    # Get the list of movies the user has already rated\n",
        "    user_rated_movies = movie_ratings[movie_ratings['userId'] == user_id]['movieId']\n",
        "\n",
        "    # Get a list of unrated movies\n",
        "    unrated_movies = [movie for movie in movie_ids if movie not in user_rated_movies]\n",
        "\n",
        "    # Predict ratings for unrated movies\n",
        "    predictions = [algo.predict(user_id, movie_id) for movie_id in unrated_movies]\n",
        "\n",
        "    # Sort predictions by estimated rating in descending order\n",
        "    recommendations = sorted(predictions, key=lambda x: x.est, reverse=True)\n",
        "\n",
        "    # Get top n recommendations\n",
        "    top_recommendations = recommendations[:n_recommendations]\n",
        "\n",
        "    # Get the movie titles for the top recommendations\n",
        "    recommended_movie_ids = [rec.iid for rec in top_recommendations]\n",
        "    recommended_movies = movie_ratings[movie_ratings['movieId'].isin(recommended_movie_ids)][['movieId', 'title']].drop_duplicates()\n",
        "\n",
        "    return recommended_movies\n",
        "\n",
        "# Get top 10 movie recommendations for a user\n",
        "user_id = 1\n",
        "recommendations = get_movie_recommendations(user_id, n_recommendations=10)\n",
        "print(\"Top 10 movie recommendations for user_id:\", user_id)\n",
        "print(recommendations)\n"
      ]
    },
    {
      "cell_type": "markdown",
      "metadata": {
        "id": "MalUeFqHMsJZ"
      },
      "source": [
        "Step 7: Visualization of the Distribution of Ratings"
      ]
    },
    {
      "cell_type": "code",
      "execution_count": null,
      "metadata": {
        "colab": {
          "base_uri": "https://localhost:8080/",
          "height": 564
        },
        "id": "9xNCe7dnMv4q",
        "outputId": "5cb62357-c919-4c09-bf42-20caba2c930f"
      },
      "outputs": [
        {
          "output_type": "display_data",
          "data": {
            "text/plain": [
              "<Figure size 1000x600 with 1 Axes>"
            ],
            "image/png": "[encoded data removed]"
          },
          "metadata": {}
        }
      ],
      "source": [
        "import matplotlib.pyplot as plt\n",
        "import seaborn as sns\n",
        "\n",
        "# Distribution of ratings\n",
        "plt.figure(figsize=(10, 6))\n",
        "sns.countplot(x='rating', data=movie_ratings)\n",
        "plt.title('Distribution of Movie Ratings')\n",
        "plt.xlabel('Rating')\n",
        "plt.ylabel('Count')\n",
        "plt.show()\n"
      ]
    },
    {
      "cell_type": "markdown",
      "metadata": {
        "id": "hiCGvswQMzxc"
      },
      "source": [
        "Visualization of Top-N Recommendations for a Specific User"
      ]
    },
    {
      "cell_type": "code",
      "execution_count": null,
      "metadata": {
        "colab": {
          "base_uri": "https://localhost:8080/"
        },
        "id": "d1EsijM8M1CG",
        "outputId": "a61045e1-d442-4eab-bb72-31eea5a94a35"
      },
      "outputs": [
        {
          "name": "stdout",
          "output_type": "stream",
          "text": [
            "Top 10 movie recommendations for user_id: 1\n",
            "          movieId                                              title  \\\n",
            "18544160   109953                           Cat Concerto, The (1947)   \n",
            "19627686   102602                                      Mimino (1977)   \n",
            "19768212   104119                           Forsyte Saga, The (1967)   \n",
            "19859141   101292                                   Abendland (2011)   \n",
            "19945778    89056                Company: Original Cast Album (1970)   \n",
            "19946890    83439                           Toys in the Attic (1963)   \n",
            "19953200    79236                                      Yumeji (1991)   \n",
            "19957857    78064                        Ween Live in Chicago (2004)   \n",
            "19962922   128366  Patton Oswalt: Tragedy Plus Comedy Equals Time...   \n",
            "19965978    87358  Santa Claus Has Blue Eyes (Le père Noël a les ...   \n",
            "\n",
            "          est_rating  \n",
            "18544160         5.0  \n",
            "19627686         5.0  \n",
            "19768212         5.0  \n",
            "19859141         5.0  \n",
            "19945778         5.0  \n",
            "19946890         5.0  \n",
            "19953200         5.0  \n",
            "19957857         5.0  \n",
            "19962922         5.0  \n",
            "19965978         5.0  \n"
          ]
        }
      ],
      "source": [
        "def get_movie_recommendations(user_id, n_recommendations=10):\n",
        "    movie_ids = movie_ratings['movieId'].unique()\n",
        "    user_rated_movies = movie_ratings[movie_ratings['userId'] == user_id]['movieId']\n",
        "    unrated_movies = [movie for movie in movie_ids if movie not in user_rated_movies]\n",
        "    predictions = [algo.predict(user_id, movie_id) for movie_id in unrated_movies]\n",
        "    recommendations = sorted(predictions, key=lambda x: x.est, reverse=True)\n",
        "    top_recommendations = recommendations[:n_recommendations]\n",
        "    recommended_movie_ids = [rec.iid for rec in top_recommendations]\n",
        "    recommended_movies = movie_ratings[movie_ratings['movieId'].isin(recommended_movie_ids)][['movieId', 'title']].drop_duplicates()\n",
        "    recommended_movies['est_rating'] = [rec.est for rec in top_recommendations]\n",
        "    return recommended_movies\n",
        "\n",
        "# Get top 10 movie recommendations for a user\n",
        "user_id = 1\n",
        "recommendations = get_movie_recommendations(user_id, n_recommendations=10)\n",
        "print(\"Top 10 movie recommendations for user_id:\", user_id)\n",
        "print(recommendations)\n",
        "\n"
      ]
    },
    {
      "cell_type": "markdown",
      "metadata": {
        "id": "MLpndkyCNU_f"
      },
      "source": [
        "Visualization of Ratings"
      ]
    },
    {
      "cell_type": "code",
      "execution_count": null,
      "metadata": {
        "colab": {
          "base_uri": "https://localhost:8080/",
          "height": 564
        },
        "id": "a4JddIpQNX1z",
        "outputId": "714c1c4c-7741-4237-d641-0c0ae60b56bd"
      },
      "outputs": [
        {
          "data": {
            "image/png": "[encoded data removed]",
            "text/plain": [
              "<Figure size 1000x600 with 1 Axes>"
            ]
          },
          "metadata": {},
          "output_type": "display_data"
        }
      ],
      "source": [
        "plt.figure(figsize=(10, 6))\n",
        "sns.histplot(movie_ratings['rating'], bins=5, kde=False)\n",
        "plt.title('Distribution of Movie Ratings')\n",
        "plt.xlabel('Rating')\n",
        "plt.ylabel('Frequency')\n",
        "plt.show()"
      ]
    },
    {
      "cell_type": "markdown",
      "metadata": {
        "id": "b1LsrXZ3NYm0"
      },
      "source": [
        "Ask User Recently Watched Movie and Provide Recommendation"
      ]
    },
    {
      "cell_type": "code",
      "execution_count": null,
      "metadata": {
        "colab": {
          "base_uri": "https://localhost:8080/"
        },
        "id": "iyCKFoBdNcM6",
        "outputId": "10ec0898-0a74-407d-e5ab-88407f3c6780"
      },
      "outputs": [
        {
          "name": "stdout",
          "output_type": "stream",
          "text": [
            "Enter the title of a recently watched movie: JUmanji\n",
            "Collaborative Recommendations based on your profile:\n",
            "          movieId                                              title  \\\n",
            "18544160   109953                           Cat Concerto, The (1947)   \n",
            "19627686   102602                                      Mimino (1977)   \n",
            "19768212   104119                           Forsyte Saga, The (1967)   \n",
            "19859141   101292                                   Abendland (2011)   \n",
            "19945778    89056                Company: Original Cast Album (1970)   \n",
            "19946890    83439                           Toys in the Attic (1963)   \n",
            "19953200    79236                                      Yumeji (1991)   \n",
            "19957857    78064                        Ween Live in Chicago (2004)   \n",
            "19962922   128366  Patton Oswalt: Tragedy Plus Comedy Equals Time...   \n",
            "19965978    87358  Santa Claus Has Blue Eyes (Le père Noël a les ...   \n",
            "\n",
            "          estimated_rating  \n",
            "18544160               5.0  \n",
            "19627686               5.0  \n",
            "19768212               5.0  \n",
            "19859141               5.0  \n",
            "19945778               5.0  \n",
            "19946890               5.0  \n",
            "19953200               5.0  \n",
            "19957857               5.0  \n",
            "19962922               5.0  \n",
            "19965978               5.0  \n"
          ]
        }
      ],
      "source": [
        "def get_movie_id(title, movie_metadata):\n",
        "    movie_id = movie_metadata[movie_metadata['title'].str.contains(title, case=False, na=False)]['movieId'].values\n",
        "    return movie_id[0] if len(movie_id) > 0 else None\n",
        "\n",
        "def get_collaborative_recommendations(algo, user_id, movie_id, n_recommendations=10):\n",
        "    movie_ids = movie_ratings['movieId'].unique()\n",
        "    user_rated_movies = movie_ratings[movie_ratings['userId'] == user_id]['movieId']\n",
        "    unrated_movies = [movie for movie in movie_ids if movie not in user_rated_movies]\n",
        "    predictions = [algo.predict(user_id, movie_id) for movie_id in unrated_movies]\n",
        "    recommendations = sorted(predictions, key=lambda x: x.est, reverse=True)\n",
        "    top_recommendations = recommendations[:n_recommendations]\n",
        "    recommended_movie_ids = [rec.iid for rec in top_recommendations]\n",
        "    recommended_movies = movie_ratings[movie_ratings['movieId'].isin(recommended_movie_ids)][['movieId', 'title']].drop_duplicates()\n",
        "    recommended_movies['estimated_rating'] = [rec.est for rec in top_recommendations]\n",
        "    return recommended_movies\n",
        "\n",
        "# Ask the user for a recently watched movie\n",
        "recently_watched_movie = input(\"Enter the title of a recently watched movie: \")\n",
        "\n",
        "# Find the movie ID\n",
        "movie_id = get_movie_id(recently_watched_movie, movies)\n",
        "if movie_id is None:\n",
        "    print(\"Movie not found. Please try again with a different title.\")\n",
        "else:\n",
        "    # Get collaborative filtering recommendations\n",
        "    user_id = 1  # Assuming the user ID is 1 for this example\n",
        "    collaborative_recommendations = get_collaborative_recommendations(algo, user_id, movie_id, n_recommendations=10)\n",
        "    print(\"Collaborative Recommendations based on your profile:\")\n",
        "    print(collaborative_recommendations)\n"
      ]
    }
  ],
  "metadata": {
    "accelerator": "GPU",
    "colab": {
      "gpuType": "T4",
      "provenance": []
    },
    "kernelspec": {
      "display_name": "Python 3",
      "name": "python3"
    },
    "language_info": {
      "name": "python"
    }
  },
  "nbformat": 4,
  "nbformat_minor": 0
}